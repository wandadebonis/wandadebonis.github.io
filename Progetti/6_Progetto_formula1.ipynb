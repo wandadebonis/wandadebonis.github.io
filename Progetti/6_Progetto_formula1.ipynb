{
  "nbformat": 4,
  "nbformat_minor": 0,
  "metadata": {
    "colab": {
      "provenance": []
    },
    "kernelspec": {
      "name": "python3",
      "display_name": "Python 3"
    },
    "language_info": {
      "name": "python"
    }
  },
  "cells": [
    {
      "cell_type": "code",
      "source": [
        "#Importare il file\n",
        "import pandas as pd\n",
        "\n",
        "file_path = \"/content/drive/MyDrive/formula1_data.csv\"\n",
        "df = pd.read_csv(file_path)\n"
      ],
      "metadata": {
        "id": "GfYHXAaQ50wa"
      },
      "execution_count": null,
      "outputs": []
    },
    {
      "cell_type": "code",
      "source": [
        "#Funzione per l'analisi delle performance individuali dei piloti\n",
        "\n",
        "points= {1:10,2:8,3:6,4:5,5:4,6:3,7:2,8:1,0:0}\n",
        "def info_driver(df):\n",
        "\n",
        "    tot_points={}\n",
        "    victories = {}\n",
        "    podium = {}\n",
        "\n",
        "    for _, row in df.iterrows():\n",
        "      driver = row['Driver']\n",
        "      position= row['Position']\n",
        "      punti = points.get(position, 0)\n",
        "      if driver in tot_points:\n",
        "        tot_points[driver] += punti\n",
        "        victories[driver] += (position == 1)\n",
        "        podium[driver] += (position <= 3)\n",
        "      else:\n",
        "          tot_points[driver] = punti\n",
        "          victories[driver] = (position == 1)\n",
        "          podium[driver] = (position <= 3)\n",
        "\n",
        "    return tot_points, victories, podium\n",
        "\n",
        "tot_points, victories, podium = info_driver(df)\n",
        "print(\"Punti Totali:\", tot_points)\n",
        "print(\"Vittorie:\", victories)\n",
        "print(\"Podi:\", podium)\n"
      ],
      "metadata": {
        "colab": {
          "base_uri": "https://localhost:8080/"
        },
        "id": "DFM-lTGi6G1D",
        "outputId": "65ba6e20-fb31-4080-c3be-975a1a5c1b6c"
      },
      "execution_count": null,
      "outputs": [
        {
          "output_type": "stream",
          "name": "stdout",
          "text": [
            "Punti Totali: {'Hamilton': 98, 'Massa': 97, 'Raikkonen': 75, 'Kubica': 75, 'Alonso': 61, 'Heidfeld': 60, 'Kovalainen': 53, 'Vettel': 35, 'Trulli': 31, 'Glock': 25}\n",
            "Vittorie: {'Hamilton': 5, 'Massa': 6, 'Raikkonen': 2, 'Kubica': 1, 'Alonso': 2, 'Heidfeld': 0, 'Kovalainen': 1, 'Vettel': 1, 'Trulli': 0, 'Glock': 0}\n",
            "Podi: {'Hamilton': 14, 'Massa': 15, 'Raikkonen': 15, 'Kubica': 11, 'Alonso': 9, 'Heidfeld': 11, 'Kovalainen': 10, 'Vettel': 10, 'Trulli': 9, 'Glock': 13}\n"
          ]
        }
      ]
    },
    {
      "cell_type": "code",
      "source": [
        "#Funzione per la creazione della classifica finale dei piloti\n",
        "\n",
        "def create_driver_list (tot_points):\n",
        "\n",
        "    driver_list = sorted(tot_points.items(), key=lambda item: item[1], reverse=True)\n",
        "    return driver_list\n",
        "\n",
        "def file_list (driver_list, file_name):\n",
        "    with open(file_name, 'w') as file:\n",
        "        file.write(\"Drivers Standings 2008 Formula 1\\n\")\n",
        "        for driver, tot_points in driver_list:\n",
        "            file.write(f\"{driver}: {tot_points}\\n\")\n",
        "\n",
        "\n",
        "driver_list = create_driver_list(tot_points)\n",
        "file_list(driver_list, 'Drivers_Standings_2008.txt')\n",
        "\n",
        "print(\"List saved in 'Drivers_Standings_2008.txt'\")\n"
      ],
      "metadata": {
        "id": "h5KyxjL82FiB",
        "colab": {
          "base_uri": "https://localhost:8080/"
        },
        "outputId": "18d4fd40-fbd7-4a29-fc93-5015ba03af16"
      },
      "execution_count": null,
      "outputs": [
        {
          "output_type": "stream",
          "name": "stdout",
          "text": [
            "List saved in 'Drivers_Standings_2008.txt'\n"
          ]
        }
      ]
    },
    {
      "cell_type": "code",
      "source": [
        "#Funzione per la classifica dei costruttori\n",
        "\n",
        "def info_team(df, driver_list):\n",
        "    team_points = {}\n",
        "\n",
        "    for driver, tot_points in driver_list.items():\n",
        "        team_drivers = df[df['Driver'] == driver]['Team'].unique()\n",
        "        for team in team_drivers:\n",
        "            if team in team_points:\n",
        "                team_points[team] += tot_points\n",
        "            else:\n",
        "                team_points[team] = tot_points\n",
        "\n",
        "    return team_points\n",
        "\n",
        "\n",
        "def create_team_list(team_points):\n",
        "    team_list = sorted(team_points.items(), key=lambda item: item[1], reverse=True)\n",
        "    return team_list\n",
        "\n",
        "# Calcola i punti per i piloti e i team\n",
        "\n",
        "team_points = info_team(df, tot_points)\n",
        "team_list = create_team_list(team_points)\n",
        "\n",
        "# Stampa la classifica dei team\n",
        "print(\"Classifica Costruttori 2008:\")\n",
        "for team, tot_points in team_list:\n",
        "  print(f\"{team}: {tot_points}\")"
      ],
      "metadata": {
        "colab": {
          "base_uri": "https://localhost:8080/"
        },
        "id": "TlNizYg-Anda",
        "outputId": "3b761f5e-5707-4c2f-aee4-98dced5106d7"
      },
      "execution_count": null,
      "outputs": [
        {
          "output_type": "stream",
          "name": "stdout",
          "text": [
            "Classifica Costruttori 2008:\n",
            "Ferrari: 172\n",
            "McLaren: 151\n",
            "BMW: 135\n",
            "Renault: 61\n",
            "Toyota: 56\n",
            "Toro Rosso: 35\n"
          ]
        }
      ]
    }
  ]
}